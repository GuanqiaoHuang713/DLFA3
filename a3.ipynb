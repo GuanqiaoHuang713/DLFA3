{
 "cells": [
  {
   "cell_type": "code",
   "execution_count": 2,
   "metadata": {},
   "outputs": [
    {
     "name": "stdout",
     "output_type": "stream",
     "text": [
      "X_train=(994, 15, 5), y_train=(994, 5)\n",
      "X_val=(249, 15, 5), y_val=(249, 5)\n",
      "X_test=(5, 15, 5), y_test=(5, 5)\n"
     ]
    }
   ],
   "source": [
    "import pandas as pd\n",
    "from sklearn.preprocessing import MinMaxScaler\n",
    "import numpy as np\n",
    "\n",
    "# Read dataset\n",
    "train_path = \"/home/hgq/Projects/DLFA3/dataset/Google_Stock_Price_Train.csv\"\n",
    "test_path = \"/home/hgq/Projects/DLFA3/dataset/Google_Stock_Price_Test.csv\"\n",
    "train_data = pd.read_csv(train_path)\n",
    "test_data = pd.read_csv(test_path)\n",
    "features = ['Open', 'High', 'Low', 'Close', 'Volume']\n",
    "train_data = train_data[features]\n",
    "test_data = test_data[features]\n",
    "\n",
    "# Transform to float\n",
    "for column in features:\n",
    "    if train_data[column].dtype == 'object':\n",
    "        train_data[column] = train_data[column].str.replace(',', '').astype(float)\n",
    "    if test_data[column].dtype == 'object':\n",
    "        test_data[column] = test_data[column].str.replace(',', '').astype(float)\n",
    "\n",
    "\n",
    "# Normalization\n",
    "scaler = MinMaxScaler(feature_range=(0, 1))\n",
    "train_scaled = scaler.fit_transform(train_data)\n",
    "test_scaled = scaler.transform(test_data)\n",
    "\n",
    "# Training dataset\n",
    "look_back = 15\n",
    "X_train, y_train = [], []\n",
    "for i in range(look_back, len(train_scaled)):\n",
    "    X_train.append(train_scaled[i - look_back:i])  # Input: Previous 15 days data\n",
    "    y_train.append(train_scaled[i])               # Output: the data of the ith day\n",
    "X_train = np.array(X_train)\n",
    "y_train = np.array(y_train)\n",
    "\n",
    "# 20% for validate\n",
    "split_index = int(len(X_train) * 0.8)\n",
    "X_val = X_train[split_index:]\n",
    "y_val = y_train[split_index:]\n",
    "X_train = X_train[:split_index]\n",
    "y_train = y_train[:split_index]\n",
    "\n",
    "# Create teset dataset\n",
    "X_test, y_test = [], []\n",
    "for i in range(look_back, len(test_scaled)):\n",
    "    X_test.append(test_scaled[i - look_back:i])\n",
    "    y_test.append(test_scaled[i])\n",
    "X_test = np.array(X_test)\n",
    "y_test = np.array(y_test)\n",
    "\n",
    "# Output shape\n",
    "print(f\"X_train={X_train.shape}, y_train={y_train.shape}\")\n",
    "print(f\"X_val={X_val.shape}, y_val={y_val.shape}\")\n",
    "print(f\"X_test={X_test.shape}, y_test={y_test.shape}\")\n"
   ]
  }
 ],
 "metadata": {
  "kernelspec": {
   "display_name": "mobile",
   "language": "python",
   "name": "python3"
  },
  "language_info": {
   "codemirror_mode": {
    "name": "ipython",
    "version": 3
   },
   "file_extension": ".py",
   "mimetype": "text/x-python",
   "name": "python",
   "nbconvert_exporter": "python",
   "pygments_lexer": "ipython3",
   "version": "3.10.15"
  }
 },
 "nbformat": 4,
 "nbformat_minor": 2
}
